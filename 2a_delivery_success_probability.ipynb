{
 "cells": [
  {
   "cell_type": "markdown",
   "metadata": {},
   "source": [
    "# Agent Coaching Recommendation Engine\n",
    "Today, a Team Manager in SDS uses different tools to identify low performing agents. In order to find opportunities for improvement, he randomly selects contacts based on sic codes to manually deep dive and concludes weather the drop in associates performance is agent controllable or not. The aim of this analysis is to develop a more scientific way by calculating delivery success probability for a contact. Recommending DSR misses with high success probability (False Positive Cases) can significantly reduce time of team manager in selecting contacts and help him do targetting performance evaluation of his associates.\n",
    "\n",
    "We have opportunity to isolate controllable vs uncontrollable factor to make our approach selective in manual deep dives and maximize the value created through exercise to improve DSR performance accross associates in different marketplaces.\n",
    "\n",
    "## The Machine Learning Solution\n",
    "The machine learning solution is required because the contact mix keeps changing over time. Hence, new parameters need to be updated over time and proportion of cases keeps on changing for non-parametric methods like tree based models. For this problem the following design was considered:\n",
    "1. Develop a binary classification model to predict probability of a contact being DSR = 1 at the time it enters into the GACD System. Since, we are calculating probability at contact level, features that are available for an associate to see about a package are considered in building this model.\n",
    "2. AUC-ROC is the model evaluation metric to be used as it tells the goodness of separation between probabilities for TPR and TNR.\n",
    "3. The aim of the training model exercise is to minimize the false negative rate and maximize accuracy.\n",
    "\n",
    "## Source Data and Feature Engineering\n",
    "d_sds_modified_packcomms and dsr_variance_bridging_rawdata tables are utilized to get pre-contact features to build different models. Features are selected based on feature importance, statistical significance optimizing overall model accuracy. Following category of features are utilized to build the train set:\n",
    "1. Difference between shipment event scan and contact connect time\n",
    "2. Categorical variables like channel, site etc.\n",
    "3. Binary variables showing if there was a scan prior to contact\n",
    "\n",
    "## Algorithm Selection and Observations\n",
    "Since we have formulated the business problem as a binary classification problem, we tried the following algorithms:\n",
    "1. Logistic Regression\n",
    "2. Random Forest\n",
    "3. XGBoost\n",
    "\n",
    "Both XGBoost and Random Forest perform equally good on the validation set and are better than logistic regression. The varible lm_wrong_delivery_station is not significant in all the models hence removed it from the analysis"
   ]
  },
  {
   "cell_type": "code",
   "execution_count": 1,
   "metadata": {},
   "outputs": [],
   "source": [
    "import pandas as pd\n",
    "import numpy as np\n",
    "import matplotlib.pyplot as plt\n",
    "\n",
    "import warnings\n",
    "warnings.filterwarnings(\"ignore\")"
   ]
  },
  {
   "cell_type": "code",
   "execution_count": 2,
   "metadata": {},
   "outputs": [
    {
     "name": "stdout",
     "output_type": "stream",
     "text": [
      "(263393, 32)\n"
     ]
    }
   ],
   "source": [
    "train_data = pd.read_csv('2c_train_data_jan_2021.txt', sep = '\\t')\n",
    "print(train_data.shape)"
   ]
  },
  {
   "cell_type": "code",
   "execution_count": 4,
   "metadata": {},
   "outputs": [
    {
     "data": {
      "text/plain": [
       "1    70.408097\n",
       "0    29.591903\n",
       "Name: delivered_in_48h, dtype: float64"
      ]
     },
     "execution_count": 4,
     "metadata": {},
     "output_type": "execute_result"
    }
   ],
   "source": [
    "(train_data['delivered_in_48h'].value_counts()/train_data.shape[0])*100"
   ]
  },
  {
   "cell_type": "markdown",
   "metadata": {},
   "source": [
    "#### DSR for AMZL RECIPIENT US in Jan 2021 was 70.41%"
   ]
  },
  {
   "cell_type": "markdown",
   "metadata": {},
   "source": [
    "## Exploratory Data Analysis"
   ]
  },
  {
   "cell_type": "code",
   "execution_count": 21,
   "metadata": {},
   "outputs": [
    {
     "data": {
      "text/html": [
       "<div>\n",
       "<style scoped>\n",
       "    .dataframe tbody tr th:only-of-type {\n",
       "        vertical-align: middle;\n",
       "    }\n",
       "\n",
       "    .dataframe tbody tr th {\n",
       "        vertical-align: top;\n",
       "    }\n",
       "\n",
       "    .dataframe thead th {\n",
       "        text-align: right;\n",
       "    }\n",
       "</style>\n",
       "<table border=\"1\" class=\"dataframe\">\n",
       "  <thead>\n",
       "    <tr style=\"text-align: right;\">\n",
       "      <th></th>\n",
       "      <th>packcomm_id</th>\n",
       "      <th>connect_date_datetime_local</th>\n",
       "      <th>disconnect_date_datetime_local</th>\n",
       "      <th>delivered_in_48h</th>\n",
       "      <th>lm_delivery_attempted_reasoncode</th>\n",
       "      <th>lm_ship_method</th>\n",
       "      <th>channel</th>\n",
       "      <th>site</th>\n",
       "      <th>lm_ead_contact_diff</th>\n",
       "      <th>lm_wrong_stattion_contact_diff</th>\n",
       "      <th>lm_delay_contact_diff</th>\n",
       "      <th>lm_missing_contact_diff</th>\n",
       "      <th>lm_shipped_contact_diff</th>\n",
       "      <th>lm_inducted_contact_diff</th>\n",
       "      <th>lm_dispatched_contact_diff</th>\n",
       "      <th>lm_exception_contact_diff</th>\n",
       "      <th>lm_customer_rejected_prior_during_contact</th>\n",
       "      <th>lm_hold_for_customer_request</th>\n",
       "      <th>lm_contact_48h_prior_ead</th>\n",
       "      <th>lm_transport_started_prior_contact</th>\n",
       "      <th>lm_package_shipped_prior_contact</th>\n",
       "      <th>lm_package_inducted_prior_contact</th>\n",
       "      <th>lm_wrong_station_prior_contact</th>\n",
       "      <th>lm_delayed_at_station_prior_contact</th>\n",
       "      <th>lm_delayed_prior_contact</th>\n",
       "      <th>lm_missing_prior_contact</th>\n",
       "      <th>lm_hold_for_action_prior_contact</th>\n",
       "      <th>lm_hold_for_redelivery_prior_contact</th>\n",
       "      <th>lm_delivery_exception_prior_contact</th>\n",
       "      <th>lm_damaged_prior_contact</th>\n",
       "      <th>lm_undeliverable_prior_contact</th>\n",
       "      <th>lm_dispatched_prior_contact</th>\n",
       "    </tr>\n",
       "  </thead>\n",
       "  <tbody>\n",
       "    <tr>\n",
       "      <td>0</td>\n",
       "      <td>111-7534854-1820242:TBA145418564504:1026132413905</td>\n",
       "      <td>2021-01-26 10:48:07</td>\n",
       "      <td>2021-01-26 11:08:28</td>\n",
       "      <td>1</td>\n",
       "      <td>no_delivery_attempted</td>\n",
       "      <td>premium</td>\n",
       "      <td>Voice</td>\n",
       "      <td>DBX</td>\n",
       "      <td>-14.0</td>\n",
       "      <td>0</td>\n",
       "      <td>13</td>\n",
       "      <td>0</td>\n",
       "      <td>62</td>\n",
       "      <td>31</td>\n",
       "      <td>24</td>\n",
       "      <td>0</td>\n",
       "      <td>0</td>\n",
       "      <td>0</td>\n",
       "      <td>0</td>\n",
       "      <td>1</td>\n",
       "      <td>1</td>\n",
       "      <td>1</td>\n",
       "      <td>0</td>\n",
       "      <td>1</td>\n",
       "      <td>0</td>\n",
       "      <td>0</td>\n",
       "      <td>0</td>\n",
       "      <td>0</td>\n",
       "      <td>0</td>\n",
       "      <td>0</td>\n",
       "      <td>0</td>\n",
       "      <td>1</td>\n",
       "    </tr>\n",
       "    <tr>\n",
       "      <td>1</td>\n",
       "      <td>112-2339165-1025836:TBA125404423304:1025441763115</td>\n",
       "      <td>2021-01-06 09:47:04</td>\n",
       "      <td>2021-01-06 09:56:14</td>\n",
       "      <td>0</td>\n",
       "      <td>no_delivery_attempted</td>\n",
       "      <td>premium</td>\n",
       "      <td>Voice</td>\n",
       "      <td>VCS-IND</td>\n",
       "      <td>59.0</td>\n",
       "      <td>0</td>\n",
       "      <td>0</td>\n",
       "      <td>0</td>\n",
       "      <td>0</td>\n",
       "      <td>0</td>\n",
       "      <td>0</td>\n",
       "      <td>0</td>\n",
       "      <td>0</td>\n",
       "      <td>0</td>\n",
       "      <td>1</td>\n",
       "      <td>0</td>\n",
       "      <td>0</td>\n",
       "      <td>0</td>\n",
       "      <td>0</td>\n",
       "      <td>0</td>\n",
       "      <td>0</td>\n",
       "      <td>0</td>\n",
       "      <td>0</td>\n",
       "      <td>0</td>\n",
       "      <td>0</td>\n",
       "      <td>0</td>\n",
       "      <td>0</td>\n",
       "      <td>0</td>\n",
       "    </tr>\n",
       "    <tr>\n",
       "      <td>2</td>\n",
       "      <td>701-4080882-2739402:TBC176546671009:1025995478455</td>\n",
       "      <td>2021-01-21 22:32:13</td>\n",
       "      <td>2021-01-21 22:34:51</td>\n",
       "      <td>1</td>\n",
       "      <td>unable_to_access</td>\n",
       "      <td>premium</td>\n",
       "      <td>Voice</td>\n",
       "      <td>VCS-CRI</td>\n",
       "      <td>-2.0</td>\n",
       "      <td>0</td>\n",
       "      <td>0</td>\n",
       "      <td>0</td>\n",
       "      <td>41</td>\n",
       "      <td>18</td>\n",
       "      <td>12</td>\n",
       "      <td>5</td>\n",
       "      <td>0</td>\n",
       "      <td>0</td>\n",
       "      <td>0</td>\n",
       "      <td>0</td>\n",
       "      <td>1</td>\n",
       "      <td>1</td>\n",
       "      <td>0</td>\n",
       "      <td>0</td>\n",
       "      <td>0</td>\n",
       "      <td>0</td>\n",
       "      <td>0</td>\n",
       "      <td>1</td>\n",
       "      <td>1</td>\n",
       "      <td>0</td>\n",
       "      <td>0</td>\n",
       "      <td>1</td>\n",
       "    </tr>\n",
       "    <tr>\n",
       "      <td>3</td>\n",
       "      <td>701-8249098-6755414:TBC169692771009:1025501341795</td>\n",
       "      <td>2021-01-07 19:38:08</td>\n",
       "      <td>2021-01-07 19:48:46</td>\n",
       "      <td>0</td>\n",
       "      <td>no_delivery_attempted</td>\n",
       "      <td>premium</td>\n",
       "      <td>Voice</td>\n",
       "      <td>VCS-USA</td>\n",
       "      <td>121.0</td>\n",
       "      <td>0</td>\n",
       "      <td>0</td>\n",
       "      <td>0</td>\n",
       "      <td>50</td>\n",
       "      <td>0</td>\n",
       "      <td>0</td>\n",
       "      <td>0</td>\n",
       "      <td>0</td>\n",
       "      <td>0</td>\n",
       "      <td>1</td>\n",
       "      <td>0</td>\n",
       "      <td>1</td>\n",
       "      <td>0</td>\n",
       "      <td>0</td>\n",
       "      <td>0</td>\n",
       "      <td>0</td>\n",
       "      <td>0</td>\n",
       "      <td>0</td>\n",
       "      <td>0</td>\n",
       "      <td>0</td>\n",
       "      <td>0</td>\n",
       "      <td>0</td>\n",
       "      <td>0</td>\n",
       "    </tr>\n",
       "    <tr>\n",
       "      <td>4</td>\n",
       "      <td>114-4855369-9758655:TBA154384929201:1026207325205</td>\n",
       "      <td>2021-01-28 11:08:07</td>\n",
       "      <td>2021-01-28 11:17:37</td>\n",
       "      <td>1</td>\n",
       "      <td>business_closed</td>\n",
       "      <td>lma</td>\n",
       "      <td>Voice</td>\n",
       "      <td>VCS-USA</td>\n",
       "      <td>-15.0</td>\n",
       "      <td>0</td>\n",
       "      <td>18</td>\n",
       "      <td>0</td>\n",
       "      <td>63</td>\n",
       "      <td>39</td>\n",
       "      <td>24</td>\n",
       "      <td>19</td>\n",
       "      <td>0</td>\n",
       "      <td>0</td>\n",
       "      <td>0</td>\n",
       "      <td>1</td>\n",
       "      <td>1</td>\n",
       "      <td>1</td>\n",
       "      <td>0</td>\n",
       "      <td>1</td>\n",
       "      <td>0</td>\n",
       "      <td>0</td>\n",
       "      <td>1</td>\n",
       "      <td>1</td>\n",
       "      <td>1</td>\n",
       "      <td>0</td>\n",
       "      <td>0</td>\n",
       "      <td>1</td>\n",
       "    </tr>\n",
       "  </tbody>\n",
       "</table>\n",
       "</div>"
      ],
      "text/plain": [
       "                                         packcomm_id  \\\n",
       "0  111-7534854-1820242:TBA145418564504:1026132413905   \n",
       "1  112-2339165-1025836:TBA125404423304:1025441763115   \n",
       "2  701-4080882-2739402:TBC176546671009:1025995478455   \n",
       "3  701-8249098-6755414:TBC169692771009:1025501341795   \n",
       "4  114-4855369-9758655:TBA154384929201:1026207325205   \n",
       "\n",
       "  connect_date_datetime_local disconnect_date_datetime_local  \\\n",
       "0         2021-01-26 10:48:07            2021-01-26 11:08:28   \n",
       "1         2021-01-06 09:47:04            2021-01-06 09:56:14   \n",
       "2         2021-01-21 22:32:13            2021-01-21 22:34:51   \n",
       "3         2021-01-07 19:38:08            2021-01-07 19:48:46   \n",
       "4         2021-01-28 11:08:07            2021-01-28 11:17:37   \n",
       "\n",
       "   delivered_in_48h lm_delivery_attempted_reasoncode lm_ship_method channel  \\\n",
       "0                 1            no_delivery_attempted        premium   Voice   \n",
       "1                 0            no_delivery_attempted        premium   Voice   \n",
       "2                 1                 unable_to_access        premium   Voice   \n",
       "3                 0            no_delivery_attempted        premium   Voice   \n",
       "4                 1                  business_closed            lma   Voice   \n",
       "\n",
       "      site  lm_ead_contact_diff  lm_wrong_stattion_contact_diff  \\\n",
       "0      DBX                -14.0                               0   \n",
       "1  VCS-IND                 59.0                               0   \n",
       "2  VCS-CRI                 -2.0                               0   \n",
       "3  VCS-USA                121.0                               0   \n",
       "4  VCS-USA                -15.0                               0   \n",
       "\n",
       "   lm_delay_contact_diff  lm_missing_contact_diff  lm_shipped_contact_diff  \\\n",
       "0                     13                        0                       62   \n",
       "1                      0                        0                        0   \n",
       "2                      0                        0                       41   \n",
       "3                      0                        0                       50   \n",
       "4                     18                        0                       63   \n",
       "\n",
       "   lm_inducted_contact_diff  lm_dispatched_contact_diff  \\\n",
       "0                        31                          24   \n",
       "1                         0                           0   \n",
       "2                        18                          12   \n",
       "3                         0                           0   \n",
       "4                        39                          24   \n",
       "\n",
       "   lm_exception_contact_diff  lm_customer_rejected_prior_during_contact  \\\n",
       "0                          0                                          0   \n",
       "1                          0                                          0   \n",
       "2                          5                                          0   \n",
       "3                          0                                          0   \n",
       "4                         19                                          0   \n",
       "\n",
       "   lm_hold_for_customer_request  lm_contact_48h_prior_ead  \\\n",
       "0                             0                         0   \n",
       "1                             0                         1   \n",
       "2                             0                         0   \n",
       "3                             0                         1   \n",
       "4                             0                         0   \n",
       "\n",
       "   lm_transport_started_prior_contact  lm_package_shipped_prior_contact  \\\n",
       "0                                   1                                 1   \n",
       "1                                   0                                 0   \n",
       "2                                   0                                 1   \n",
       "3                                   0                                 1   \n",
       "4                                   1                                 1   \n",
       "\n",
       "   lm_package_inducted_prior_contact  lm_wrong_station_prior_contact  \\\n",
       "0                                  1                               0   \n",
       "1                                  0                               0   \n",
       "2                                  1                               0   \n",
       "3                                  0                               0   \n",
       "4                                  1                               0   \n",
       "\n",
       "   lm_delayed_at_station_prior_contact  lm_delayed_prior_contact  \\\n",
       "0                                    1                         0   \n",
       "1                                    0                         0   \n",
       "2                                    0                         0   \n",
       "3                                    0                         0   \n",
       "4                                    1                         0   \n",
       "\n",
       "   lm_missing_prior_contact  lm_hold_for_action_prior_contact  \\\n",
       "0                         0                                 0   \n",
       "1                         0                                 0   \n",
       "2                         0                                 0   \n",
       "3                         0                                 0   \n",
       "4                         0                                 1   \n",
       "\n",
       "   lm_hold_for_redelivery_prior_contact  lm_delivery_exception_prior_contact  \\\n",
       "0                                     0                                    0   \n",
       "1                                     0                                    0   \n",
       "2                                     1                                    1   \n",
       "3                                     0                                    0   \n",
       "4                                     1                                    1   \n",
       "\n",
       "   lm_damaged_prior_contact  lm_undeliverable_prior_contact  \\\n",
       "0                         0                               0   \n",
       "1                         0                               0   \n",
       "2                         0                               0   \n",
       "3                         0                               0   \n",
       "4                         0                               0   \n",
       "\n",
       "   lm_dispatched_prior_contact  \n",
       "0                            1  \n",
       "1                            0  \n",
       "2                            1  \n",
       "3                            0  \n",
       "4                            1  "
      ]
     },
     "execution_count": 21,
     "metadata": {},
     "output_type": "execute_result"
    }
   ],
   "source": [
    "pd.set_option(\"display.max_columns\",100)\n",
    "train_data.head()"
   ]
  },
  {
   "cell_type": "code",
   "execution_count": 22,
   "metadata": {},
   "outputs": [
    {
     "name": "stdout",
     "output_type": "stream",
     "text": [
      "<class 'pandas.core.frame.DataFrame'>\n",
      "RangeIndex: 263393 entries, 0 to 263392\n",
      "Data columns (total 32 columns):\n",
      "packcomm_id                                  263393 non-null object\n",
      "connect_date_datetime_local                  263393 non-null object\n",
      "disconnect_date_datetime_local               263393 non-null object\n",
      "delivered_in_48h                             263393 non-null int64\n",
      "lm_delivery_attempted_reasoncode             263393 non-null object\n",
      "lm_ship_method                               263393 non-null object\n",
      "channel                                      263393 non-null object\n",
      "site                                         263393 non-null object\n",
      "lm_ead_contact_diff                          263390 non-null float64\n",
      "lm_wrong_stattion_contact_diff               263393 non-null int64\n",
      "lm_delay_contact_diff                        263393 non-null int64\n",
      "lm_missing_contact_diff                      263393 non-null int64\n",
      "lm_shipped_contact_diff                      263393 non-null int64\n",
      "lm_inducted_contact_diff                     263393 non-null int64\n",
      "lm_dispatched_contact_diff                   263393 non-null int64\n",
      "lm_exception_contact_diff                    263393 non-null int64\n",
      "lm_customer_rejected_prior_during_contact    263393 non-null int64\n",
      "lm_hold_for_customer_request                 263393 non-null int64\n",
      "lm_contact_48h_prior_ead                     263393 non-null int64\n",
      "lm_transport_started_prior_contact           263393 non-null int64\n",
      "lm_package_shipped_prior_contact             263393 non-null int64\n",
      "lm_package_inducted_prior_contact            263393 non-null int64\n",
      "lm_wrong_station_prior_contact               263393 non-null int64\n",
      "lm_delayed_at_station_prior_contact          263393 non-null int64\n",
      "lm_delayed_prior_contact                     263393 non-null int64\n",
      "lm_missing_prior_contact                     263393 non-null int64\n",
      "lm_hold_for_action_prior_contact             263393 non-null int64\n",
      "lm_hold_for_redelivery_prior_contact         263393 non-null int64\n",
      "lm_delivery_exception_prior_contact          263393 non-null int64\n",
      "lm_damaged_prior_contact                     263393 non-null int64\n",
      "lm_undeliverable_prior_contact               263393 non-null int64\n",
      "lm_dispatched_prior_contact                  263393 non-null int64\n",
      "dtypes: float64(1), int64(24), object(7)\n",
      "memory usage: 64.3+ MB\n"
     ]
    }
   ],
   "source": [
    "train_data.info()"
   ]
  },
  {
   "cell_type": "markdown",
   "metadata": {},
   "source": [
    "df.info() gives us the information about how unoptimized the storage of the python data types are. For binary variables, we don't need so much space and hence int64 is an overkill. Changing datatypes can reduce our memory usuage significantly. We will take care about this when we built productionalized pipelines."
   ]
  },
  {
   "cell_type": "code",
   "execution_count": 23,
   "metadata": {},
   "outputs": [
    {
     "data": {
      "text/plain": [
       "packcomm_id                                  0.000000\n",
       "connect_date_datetime_local                  0.000000\n",
       "disconnect_date_datetime_local               0.000000\n",
       "delivered_in_48h                             0.000000\n",
       "lm_delivery_attempted_reasoncode             0.000000\n",
       "lm_ship_method                               0.000000\n",
       "channel                                      0.000000\n",
       "site                                         0.000000\n",
       "lm_ead_contact_diff                          0.001139\n",
       "lm_wrong_stattion_contact_diff               0.000000\n",
       "lm_delay_contact_diff                        0.000000\n",
       "lm_missing_contact_diff                      0.000000\n",
       "lm_shipped_contact_diff                      0.000000\n",
       "lm_inducted_contact_diff                     0.000000\n",
       "lm_dispatched_contact_diff                   0.000000\n",
       "lm_exception_contact_diff                    0.000000\n",
       "lm_customer_rejected_prior_during_contact    0.000000\n",
       "lm_hold_for_customer_request                 0.000000\n",
       "lm_contact_48h_prior_ead                     0.000000\n",
       "lm_transport_started_prior_contact           0.000000\n",
       "lm_package_shipped_prior_contact             0.000000\n",
       "lm_package_inducted_prior_contact            0.000000\n",
       "lm_wrong_station_prior_contact               0.000000\n",
       "lm_delayed_at_station_prior_contact          0.000000\n",
       "lm_delayed_prior_contact                     0.000000\n",
       "lm_missing_prior_contact                     0.000000\n",
       "lm_hold_for_action_prior_contact             0.000000\n",
       "lm_hold_for_redelivery_prior_contact         0.000000\n",
       "lm_delivery_exception_prior_contact          0.000000\n",
       "lm_damaged_prior_contact                     0.000000\n",
       "lm_undeliverable_prior_contact               0.000000\n",
       "lm_dispatched_prior_contact                  0.000000\n",
       "dtype: float64"
      ]
     },
     "execution_count": 23,
     "metadata": {},
     "output_type": "execute_result"
    }
   ],
   "source": [
    "(train_data.isna().sum()/train_data.shape[0])*100"
   ]
  },
  {
   "cell_type": "markdown",
   "metadata": {},
   "source": [
    "There are no missing values except a few in lm_ead_contact_diff, replacing them with 0"
   ]
  },
  {
   "cell_type": "code",
   "execution_count": 24,
   "metadata": {},
   "outputs": [],
   "source": [
    "train_data['lm_ead_contact_diff'] = train_data['lm_ead_contact_diff'].fillna(value = 0.0)"
   ]
  },
  {
   "cell_type": "code",
   "execution_count": 25,
   "metadata": {},
   "outputs": [
    {
     "data": {
      "text/html": [
       "<div>\n",
       "<style scoped>\n",
       "    .dataframe tbody tr th:only-of-type {\n",
       "        vertical-align: middle;\n",
       "    }\n",
       "\n",
       "    .dataframe tbody tr th {\n",
       "        vertical-align: top;\n",
       "    }\n",
       "\n",
       "    .dataframe thead th {\n",
       "        text-align: right;\n",
       "    }\n",
       "</style>\n",
       "<table border=\"1\" class=\"dataframe\">\n",
       "  <thead>\n",
       "    <tr style=\"text-align: right;\">\n",
       "      <th></th>\n",
       "      <th>delivered_in_48h</th>\n",
       "      <th>lm_ead_contact_diff</th>\n",
       "      <th>lm_wrong_stattion_contact_diff</th>\n",
       "      <th>lm_delay_contact_diff</th>\n",
       "      <th>lm_missing_contact_diff</th>\n",
       "      <th>lm_shipped_contact_diff</th>\n",
       "      <th>lm_inducted_contact_diff</th>\n",
       "      <th>lm_dispatched_contact_diff</th>\n",
       "      <th>lm_exception_contact_diff</th>\n",
       "      <th>lm_customer_rejected_prior_during_contact</th>\n",
       "      <th>lm_hold_for_customer_request</th>\n",
       "      <th>lm_contact_48h_prior_ead</th>\n",
       "      <th>lm_transport_started_prior_contact</th>\n",
       "      <th>lm_package_shipped_prior_contact</th>\n",
       "      <th>lm_package_inducted_prior_contact</th>\n",
       "      <th>lm_wrong_station_prior_contact</th>\n",
       "      <th>lm_delayed_at_station_prior_contact</th>\n",
       "      <th>lm_delayed_prior_contact</th>\n",
       "      <th>lm_missing_prior_contact</th>\n",
       "      <th>lm_hold_for_action_prior_contact</th>\n",
       "      <th>lm_hold_for_redelivery_prior_contact</th>\n",
       "      <th>lm_delivery_exception_prior_contact</th>\n",
       "      <th>lm_damaged_prior_contact</th>\n",
       "      <th>lm_undeliverable_prior_contact</th>\n",
       "      <th>lm_dispatched_prior_contact</th>\n",
       "    </tr>\n",
       "  </thead>\n",
       "  <tbody>\n",
       "    <tr>\n",
       "      <td>count</td>\n",
       "      <td>263393.000000</td>\n",
       "      <td>263393.000000</td>\n",
       "      <td>263393.000000</td>\n",
       "      <td>263393.000000</td>\n",
       "      <td>263393.000000</td>\n",
       "      <td>263393.000000</td>\n",
       "      <td>263393.000000</td>\n",
       "      <td>263393.000000</td>\n",
       "      <td>263393.000000</td>\n",
       "      <td>263393.000000</td>\n",
       "      <td>263393.000000</td>\n",
       "      <td>263393.000000</td>\n",
       "      <td>263393.000000</td>\n",
       "      <td>263393.000000</td>\n",
       "      <td>263393.000000</td>\n",
       "      <td>263393.000000</td>\n",
       "      <td>263393.000000</td>\n",
       "      <td>263393.000000</td>\n",
       "      <td>263393.000000</td>\n",
       "      <td>263393.000000</td>\n",
       "      <td>263393.000000</td>\n",
       "      <td>263393.000000</td>\n",
       "      <td>263393.000000</td>\n",
       "      <td>263393.000000</td>\n",
       "      <td>263393.000000</td>\n",
       "    </tr>\n",
       "    <tr>\n",
       "      <td>mean</td>\n",
       "      <td>0.704081</td>\n",
       "      <td>6.961434</td>\n",
       "      <td>0.064094</td>\n",
       "      <td>2.583277</td>\n",
       "      <td>2.767572</td>\n",
       "      <td>47.854985</td>\n",
       "      <td>16.067549</td>\n",
       "      <td>10.464280</td>\n",
       "      <td>6.528366</td>\n",
       "      <td>0.019139</td>\n",
       "      <td>0.016022</td>\n",
       "      <td>0.129130</td>\n",
       "      <td>0.578497</td>\n",
       "      <td>0.843470</td>\n",
       "      <td>0.611808</td>\n",
       "      <td>0.002126</td>\n",
       "      <td>0.087117</td>\n",
       "      <td>0.023938</td>\n",
       "      <td>0.073051</td>\n",
       "      <td>0.174063</td>\n",
       "      <td>0.168395</td>\n",
       "      <td>0.393830</td>\n",
       "      <td>0.005718</td>\n",
       "      <td>0.011177</td>\n",
       "      <td>0.573409</td>\n",
       "    </tr>\n",
       "    <tr>\n",
       "      <td>std</td>\n",
       "      <td>0.456456</td>\n",
       "      <td>50.621386</td>\n",
       "      <td>2.749649</td>\n",
       "      <td>14.537132</td>\n",
       "      <td>17.202822</td>\n",
       "      <td>55.674198</td>\n",
       "      <td>29.008084</td>\n",
       "      <td>25.056446</td>\n",
       "      <td>21.953647</td>\n",
       "      <td>0.137013</td>\n",
       "      <td>0.125559</td>\n",
       "      <td>0.335345</td>\n",
       "      <td>0.493801</td>\n",
       "      <td>0.363358</td>\n",
       "      <td>0.487340</td>\n",
       "      <td>0.046061</td>\n",
       "      <td>0.282007</td>\n",
       "      <td>0.152855</td>\n",
       "      <td>0.260220</td>\n",
       "      <td>0.379164</td>\n",
       "      <td>0.374217</td>\n",
       "      <td>0.488599</td>\n",
       "      <td>0.075399</td>\n",
       "      <td>0.105130</td>\n",
       "      <td>0.494583</td>\n",
       "    </tr>\n",
       "    <tr>\n",
       "      <td>min</td>\n",
       "      <td>0.000000</td>\n",
       "      <td>-4178.000000</td>\n",
       "      <td>0.000000</td>\n",
       "      <td>0.000000</td>\n",
       "      <td>0.000000</td>\n",
       "      <td>0.000000</td>\n",
       "      <td>0.000000</td>\n",
       "      <td>0.000000</td>\n",
       "      <td>0.000000</td>\n",
       "      <td>0.000000</td>\n",
       "      <td>0.000000</td>\n",
       "      <td>0.000000</td>\n",
       "      <td>0.000000</td>\n",
       "      <td>0.000000</td>\n",
       "      <td>0.000000</td>\n",
       "      <td>0.000000</td>\n",
       "      <td>0.000000</td>\n",
       "      <td>0.000000</td>\n",
       "      <td>0.000000</td>\n",
       "      <td>0.000000</td>\n",
       "      <td>0.000000</td>\n",
       "      <td>0.000000</td>\n",
       "      <td>0.000000</td>\n",
       "      <td>0.000000</td>\n",
       "      <td>0.000000</td>\n",
       "    </tr>\n",
       "    <tr>\n",
       "      <td>25%</td>\n",
       "      <td>0.000000</td>\n",
       "      <td>-5.000000</td>\n",
       "      <td>0.000000</td>\n",
       "      <td>0.000000</td>\n",
       "      <td>0.000000</td>\n",
       "      <td>15.000000</td>\n",
       "      <td>0.000000</td>\n",
       "      <td>0.000000</td>\n",
       "      <td>0.000000</td>\n",
       "      <td>0.000000</td>\n",
       "      <td>0.000000</td>\n",
       "      <td>0.000000</td>\n",
       "      <td>0.000000</td>\n",
       "      <td>1.000000</td>\n",
       "      <td>0.000000</td>\n",
       "      <td>0.000000</td>\n",
       "      <td>0.000000</td>\n",
       "      <td>0.000000</td>\n",
       "      <td>0.000000</td>\n",
       "      <td>0.000000</td>\n",
       "      <td>0.000000</td>\n",
       "      <td>0.000000</td>\n",
       "      <td>0.000000</td>\n",
       "      <td>0.000000</td>\n",
       "      <td>0.000000</td>\n",
       "    </tr>\n",
       "    <tr>\n",
       "      <td>50%</td>\n",
       "      <td>1.000000</td>\n",
       "      <td>4.000000</td>\n",
       "      <td>0.000000</td>\n",
       "      <td>0.000000</td>\n",
       "      <td>0.000000</td>\n",
       "      <td>35.000000</td>\n",
       "      <td>8.000000</td>\n",
       "      <td>2.000000</td>\n",
       "      <td>0.000000</td>\n",
       "      <td>0.000000</td>\n",
       "      <td>0.000000</td>\n",
       "      <td>0.000000</td>\n",
       "      <td>1.000000</td>\n",
       "      <td>1.000000</td>\n",
       "      <td>1.000000</td>\n",
       "      <td>0.000000</td>\n",
       "      <td>0.000000</td>\n",
       "      <td>0.000000</td>\n",
       "      <td>0.000000</td>\n",
       "      <td>0.000000</td>\n",
       "      <td>0.000000</td>\n",
       "      <td>0.000000</td>\n",
       "      <td>0.000000</td>\n",
       "      <td>0.000000</td>\n",
       "      <td>1.000000</td>\n",
       "    </tr>\n",
       "    <tr>\n",
       "      <td>75%</td>\n",
       "      <td>1.000000</td>\n",
       "      <td>27.000000</td>\n",
       "      <td>0.000000</td>\n",
       "      <td>0.000000</td>\n",
       "      <td>0.000000</td>\n",
       "      <td>63.000000</td>\n",
       "      <td>18.000000</td>\n",
       "      <td>8.000000</td>\n",
       "      <td>1.000000</td>\n",
       "      <td>0.000000</td>\n",
       "      <td>0.000000</td>\n",
       "      <td>0.000000</td>\n",
       "      <td>1.000000</td>\n",
       "      <td>1.000000</td>\n",
       "      <td>1.000000</td>\n",
       "      <td>0.000000</td>\n",
       "      <td>0.000000</td>\n",
       "      <td>0.000000</td>\n",
       "      <td>0.000000</td>\n",
       "      <td>0.000000</td>\n",
       "      <td>0.000000</td>\n",
       "      <td>1.000000</td>\n",
       "      <td>0.000000</td>\n",
       "      <td>0.000000</td>\n",
       "      <td>1.000000</td>\n",
       "    </tr>\n",
       "    <tr>\n",
       "      <td>max</td>\n",
       "      <td>1.000000</td>\n",
       "      <td>985.000000</td>\n",
       "      <td>503.000000</td>\n",
       "      <td>883.000000</td>\n",
       "      <td>2165.000000</td>\n",
       "      <td>4224.000000</td>\n",
       "      <td>1253.000000</td>\n",
       "      <td>1253.000000</td>\n",
       "      <td>887.000000</td>\n",
       "      <td>1.000000</td>\n",
       "      <td>1.000000</td>\n",
       "      <td>1.000000</td>\n",
       "      <td>1.000000</td>\n",
       "      <td>1.000000</td>\n",
       "      <td>1.000000</td>\n",
       "      <td>1.000000</td>\n",
       "      <td>1.000000</td>\n",
       "      <td>1.000000</td>\n",
       "      <td>1.000000</td>\n",
       "      <td>1.000000</td>\n",
       "      <td>1.000000</td>\n",
       "      <td>1.000000</td>\n",
       "      <td>1.000000</td>\n",
       "      <td>1.000000</td>\n",
       "      <td>1.000000</td>\n",
       "    </tr>\n",
       "  </tbody>\n",
       "</table>\n",
       "</div>"
      ],
      "text/plain": [
       "       delivered_in_48h  lm_ead_contact_diff  lm_wrong_stattion_contact_diff  \\\n",
       "count     263393.000000        263393.000000                   263393.000000   \n",
       "mean           0.704081             6.961434                        0.064094   \n",
       "std            0.456456            50.621386                        2.749649   \n",
       "min            0.000000         -4178.000000                        0.000000   \n",
       "25%            0.000000            -5.000000                        0.000000   \n",
       "50%            1.000000             4.000000                        0.000000   \n",
       "75%            1.000000            27.000000                        0.000000   \n",
       "max            1.000000           985.000000                      503.000000   \n",
       "\n",
       "       lm_delay_contact_diff  lm_missing_contact_diff  \\\n",
       "count          263393.000000            263393.000000   \n",
       "mean                2.583277                 2.767572   \n",
       "std                14.537132                17.202822   \n",
       "min                 0.000000                 0.000000   \n",
       "25%                 0.000000                 0.000000   \n",
       "50%                 0.000000                 0.000000   \n",
       "75%                 0.000000                 0.000000   \n",
       "max               883.000000              2165.000000   \n",
       "\n",
       "       lm_shipped_contact_diff  lm_inducted_contact_diff  \\\n",
       "count            263393.000000             263393.000000   \n",
       "mean                 47.854985                 16.067549   \n",
       "std                  55.674198                 29.008084   \n",
       "min                   0.000000                  0.000000   \n",
       "25%                  15.000000                  0.000000   \n",
       "50%                  35.000000                  8.000000   \n",
       "75%                  63.000000                 18.000000   \n",
       "max                4224.000000               1253.000000   \n",
       "\n",
       "       lm_dispatched_contact_diff  lm_exception_contact_diff  \\\n",
       "count               263393.000000              263393.000000   \n",
       "mean                    10.464280                   6.528366   \n",
       "std                     25.056446                  21.953647   \n",
       "min                      0.000000                   0.000000   \n",
       "25%                      0.000000                   0.000000   \n",
       "50%                      2.000000                   0.000000   \n",
       "75%                      8.000000                   1.000000   \n",
       "max                   1253.000000                 887.000000   \n",
       "\n",
       "       lm_customer_rejected_prior_during_contact  \\\n",
       "count                              263393.000000   \n",
       "mean                                    0.019139   \n",
       "std                                     0.137013   \n",
       "min                                     0.000000   \n",
       "25%                                     0.000000   \n",
       "50%                                     0.000000   \n",
       "75%                                     0.000000   \n",
       "max                                     1.000000   \n",
       "\n",
       "       lm_hold_for_customer_request  lm_contact_48h_prior_ead  \\\n",
       "count                 263393.000000             263393.000000   \n",
       "mean                       0.016022                  0.129130   \n",
       "std                        0.125559                  0.335345   \n",
       "min                        0.000000                  0.000000   \n",
       "25%                        0.000000                  0.000000   \n",
       "50%                        0.000000                  0.000000   \n",
       "75%                        0.000000                  0.000000   \n",
       "max                        1.000000                  1.000000   \n",
       "\n",
       "       lm_transport_started_prior_contact  lm_package_shipped_prior_contact  \\\n",
       "count                       263393.000000                     263393.000000   \n",
       "mean                             0.578497                          0.843470   \n",
       "std                              0.493801                          0.363358   \n",
       "min                              0.000000                          0.000000   \n",
       "25%                              0.000000                          1.000000   \n",
       "50%                              1.000000                          1.000000   \n",
       "75%                              1.000000                          1.000000   \n",
       "max                              1.000000                          1.000000   \n",
       "\n",
       "       lm_package_inducted_prior_contact  lm_wrong_station_prior_contact  \\\n",
       "count                      263393.000000                   263393.000000   \n",
       "mean                            0.611808                        0.002126   \n",
       "std                             0.487340                        0.046061   \n",
       "min                             0.000000                        0.000000   \n",
       "25%                             0.000000                        0.000000   \n",
       "50%                             1.000000                        0.000000   \n",
       "75%                             1.000000                        0.000000   \n",
       "max                             1.000000                        1.000000   \n",
       "\n",
       "       lm_delayed_at_station_prior_contact  lm_delayed_prior_contact  \\\n",
       "count                        263393.000000             263393.000000   \n",
       "mean                              0.087117                  0.023938   \n",
       "std                               0.282007                  0.152855   \n",
       "min                               0.000000                  0.000000   \n",
       "25%                               0.000000                  0.000000   \n",
       "50%                               0.000000                  0.000000   \n",
       "75%                               0.000000                  0.000000   \n",
       "max                               1.000000                  1.000000   \n",
       "\n",
       "       lm_missing_prior_contact  lm_hold_for_action_prior_contact  \\\n",
       "count             263393.000000                     263393.000000   \n",
       "mean                   0.073051                          0.174063   \n",
       "std                    0.260220                          0.379164   \n",
       "min                    0.000000                          0.000000   \n",
       "25%                    0.000000                          0.000000   \n",
       "50%                    0.000000                          0.000000   \n",
       "75%                    0.000000                          0.000000   \n",
       "max                    1.000000                          1.000000   \n",
       "\n",
       "       lm_hold_for_redelivery_prior_contact  \\\n",
       "count                         263393.000000   \n",
       "mean                               0.168395   \n",
       "std                                0.374217   \n",
       "min                                0.000000   \n",
       "25%                                0.000000   \n",
       "50%                                0.000000   \n",
       "75%                                0.000000   \n",
       "max                                1.000000   \n",
       "\n",
       "       lm_delivery_exception_prior_contact  lm_damaged_prior_contact  \\\n",
       "count                        263393.000000             263393.000000   \n",
       "mean                              0.393830                  0.005718   \n",
       "std                               0.488599                  0.075399   \n",
       "min                               0.000000                  0.000000   \n",
       "25%                               0.000000                  0.000000   \n",
       "50%                               0.000000                  0.000000   \n",
       "75%                               1.000000                  0.000000   \n",
       "max                               1.000000                  1.000000   \n",
       "\n",
       "       lm_undeliverable_prior_contact  lm_dispatched_prior_contact  \n",
       "count                   263393.000000                263393.000000  \n",
       "mean                         0.011177                     0.573409  \n",
       "std                          0.105130                     0.494583  \n",
       "min                          0.000000                     0.000000  \n",
       "25%                          0.000000                     0.000000  \n",
       "50%                          0.000000                     1.000000  \n",
       "75%                          0.000000                     1.000000  \n",
       "max                          1.000000                     1.000000  "
      ]
     },
     "execution_count": 25,
     "metadata": {},
     "output_type": "execute_result"
    }
   ],
   "source": [
    "train_data.describe()"
   ]
  },
  {
   "cell_type": "code",
   "execution_count": 26,
   "metadata": {},
   "outputs": [
    {
     "data": {
      "image/png": "[encoded data removed]",
      "text/plain": [
       "<Figure size 1008x1008 with 4 Axes>"
      ]
     },
     "metadata": {
      "needs_background": "light"
     },
     "output_type": "display_data"
    }
   ],
   "source": [
    "fig, ax = plt.subplots(2,2, figsize=(14,14))\n",
    "plt.subplots_adjust(wspace=0.7, hspace=0.2)\n",
    "ax[0,0].set_title(\"DSR by channel\")\n",
    "train_data.groupby(['channel']).mean()['delivered_in_48h'].plot.barh(ax=ax[0,0], color='b', alpha = 0.3)\n",
    "ax[1,0].set_title(\"DSR by ship method\")\n",
    "train_data.groupby(['lm_ship_method']).mean()['delivered_in_48h'].plot.barh(ax=ax[1,0], color='g', alpha=0.3)\n",
    "ax[0,1].set_title(\"DSR by delivery attempt reasoncode\")\n",
    "train_data.groupby(['lm_delivery_attempted_reasoncode']).mean()['delivered_in_48h'].plot.barh(ax=ax[0,1], color='k', alpha=0.3)\n",
    "ax[1,1].set_title(\"DSR by site\")\n",
    "train_data.groupby(['site']).mean()['delivered_in_48h'].plot.barh(ax=ax[1,1], color='r', alpha=0.3)\n",
    "plt.show()"
   ]
  },
  {
   "cell_type": "code",
   "execution_count": 27,
   "metadata": {},
   "outputs": [
    {
     "data": {
      "image/png": "[encoded data removed]",
      "text/plain": [
       "<Figure size 864x864 with 2 Axes>"
      ]
     },
     "metadata": {
      "needs_background": "light"
     },
     "output_type": "display_data"
    }
   ],
   "source": [
    "fig, ax = plt.subplots(1,2, figsize=(12,12)) \n",
    "ax[0].set_title(\"EAD Contact Diff Density for DSR = 0\")\n",
    "train_data['lm_ead_contact_diff'][train_data['delivered_in_48h'] == 0].plot.density(ax=ax[0])\n",
    "ax[1].set_title(\"EAD Contact Diff Density for DSR = 1\")\n",
    "train_data['lm_ead_contact_diff'][train_data['delivered_in_48h'] == 1].plot.density(ax=ax[1])\n",
    "plt.show()"
   ]
  },
  {
   "cell_type": "markdown",
   "metadata": {},
   "source": [
    "## Handling the class imbalance\n",
    "We run the model on both balanced and unbalanced dataset and compare performance in accuracy"
   ]
  },
  {
   "cell_type": "code",
   "execution_count": 32,
   "metadata": {},
   "outputs": [
    {
     "name": "stdout",
     "output_type": "stream",
     "text": [
      "(155832, 32)\n"
     ]
    },
    {
     "data": {
      "text/plain": [
       "0    77943\n",
       "1    77889\n",
       "Name: delivered_in_48h, dtype: int64"
      ]
     },
     "execution_count": 32,
     "metadata": {},
     "output_type": "execute_result"
    }
   ],
   "source": [
    "train_1 = train_data[train_data['delivered_in_48h']==1].sample(frac=0.42, replace=False, random_state = 23)\n",
    "train_0 = train_data[train_data['delivered_in_48h']==0]\n",
    "\n",
    "train_data_balanced = pd.concat([train_1,train_0])\n",
    "print(train_data_balanced.shape)\n",
    "train_data_balanced['delivered_in_48h'].value_counts()"
   ]
  },
  {
   "cell_type": "markdown",
   "metadata": {},
   "source": [
    "## Outlier Detection and Removal\n",
    "lm_EAD_contact_diff is the most important feature in every model and from business perspective, it makes sense because if the package is 48 hour prior to the estimated arrival datetime, it is less likely to get delivered. Programatically, for some ship methods like 1-day delivery, 2-day delivery this might never make sense but for all other standard deliveries it can help us to prevent a huge chunk of less-controllable contacts from being routed to SDS. Now we will try to understand the distribution of this feature and try to find the optimal split for this features for maximum probability of getting a successful DSR.\n",
    "\n",
    "\n",
    "The range of this feature clearly shows presence of outliers in the model, we would want to inspect these outlier cases and take a decision to fix them or remove them"
   ]
  },
  {
   "cell_type": "code",
   "execution_count": 37,
   "metadata": {},
   "outputs": [
    {
     "data": {
      "text/plain": [
       "count    155832.000000\n",
       "mean          6.331761\n",
       "std          61.861568\n",
       "min       -4178.000000\n",
       "25%         -15.000000\n",
       "50%           4.000000\n",
       "75%          28.000000\n",
       "max         985.000000\n",
       "Name: lm_ead_contact_diff, dtype: float64"
      ]
     },
     "execution_count": 37,
     "metadata": {},
     "output_type": "execute_result"
    }
   ],
   "source": [
    "train_data_balanced['lm_ead_contact_diff'].describe()"
   ]
  },
  {
   "cell_type": "code",
   "execution_count": 13,
   "metadata": {},
   "outputs": [
    {
     "data": {
      "text/plain": [
       "(-47.6, 468.7]          246225\n",
       "(-563.9, -47.6]          17002\n",
       "(-1080.2, -563.9]          112\n",
       "(468.7, 985.0]              41\n",
       "(-1596.5, -1080.2]           6\n",
       "(-2112.8, -1596.5]           2\n",
       "(-2629.1, -2112.8]           1\n",
       "(-4183.164, -3661.7]         1\n",
       "(-3145.4, -2629.1]           0\n",
       "(-3661.7, -3145.4]           0\n",
       "Name: lm_ead_contact_diff, dtype: int64"
      ]
     },
     "execution_count": 13,
     "metadata": {},
     "output_type": "execute_result"
    }
   ],
   "source": [
    "train_data_balanced['lm_ead_contact_diff'].sort_values().value_counts(bins=10)"
   ]
  },
  {
   "cell_type": "code",
   "execution_count": 29,
   "metadata": {},
   "outputs": [
    {
     "name": "stdout",
     "output_type": "stream",
     "text": [
      "(2830,)\n",
      "Total DSR = 1 cases in this bucket 23\n"
     ]
    }
   ],
   "source": [
    "subset = train_data_balanced.delivered_in_48h[(train_data_balanced.lm_ead_contact_diff < -168) | \n",
    "                                              (train_data_balanced['lm_ead_contact_diff'] > 168)]\n",
    "\n",
    "print(subset.shape)\n",
    "print(\"Total DSR = 1 cases in this bucket\", subset.sum())"
   ]
  },
  {
   "cell_type": "markdown",
   "metadata": {},
   "source": [
    "Based on the above bins and using some business knowledge, contacts that are coming before or after 7 days of EAD (lm_ead_contact_diff feature < - 168 or lm_ead_contact_diff feature > 168) are less controllable and provide no value in defining delivery success probability. Hence, we will remove them from the training data set. \n",
    "(Total 2830 observations are being removed)"
   ]
  },
  {
   "cell_type": "code",
   "execution_count": 41,
   "metadata": {},
   "outputs": [
    {
     "data": {
      "text/plain": [
       "(152949, 32)"
      ]
     },
     "execution_count": 41,
     "metadata": {},
     "output_type": "execute_result"
    }
   ],
   "source": [
    "train_data_balanced = train_data_balanced[(train_data_balanced['lm_ead_contact_diff'] > -168) &\n",
    "                                              (train_data_balanced['lm_ead_contact_diff'] < 168)]\n",
    "train_data_balanced.shape"
   ]
  },
  {
   "cell_type": "code",
   "execution_count": 50,
   "metadata": {},
   "outputs": [
    {
     "data": {
      "image/png": "[encoded data removed]",
      "text/plain": [
       "<Figure size 720x720 with 2 Axes>"
      ]
     },
     "metadata": {
      "needs_background": "light"
     },
     "output_type": "display_data"
    }
   ],
   "source": [
    "fig, ax = plt.subplots(2,1, figsize=(10,10))\n",
    "ax[0].set_title(\"Overall Distribution of lm_ead_contact_diff\")\n",
    "train_data_balanced['lm_ead_contact_diff'].hist(ax=ax[0])\n",
    "ax[1].set_title(\"Overall Distribution of lm_ead_contact_diff\")\n",
    "train_data_balanced['lm_ead_contact_diff'][train_data['delivered_in_48h']==1].hist(ax=ax[1], alpha=0.3, label=1)\n",
    "train_data_balanced['lm_ead_contact_diff'][train_data['delivered_in_48h']==0].hist(ax=ax[1], alpha=0.3, label=0)\n",
    "ax[1].legend()\n",
    "plt.show()"
   ]
  },
  {
   "cell_type": "markdown",
   "metadata": {},
   "source": [
    "Now the distribution of lm_ead_contact_diff looks more like a normal distribution and we can notice some difference in the distribution for DSR=1 and DSR=0"
   ]
  },
  {
   "cell_type": "markdown",
   "metadata": {},
   "source": [
    "# Data Preparation for Model Training"
   ]
  },
  {
   "cell_type": "code",
   "execution_count": 51,
   "metadata": {},
   "outputs": [
    {
     "name": "stdout",
     "output_type": "stream",
     "text": [
      "(263393, 26) (152949, 26)\n"
     ]
    }
   ],
   "source": [
    "numerical_features = ['lm_ead_contact_diff', 'lm_wrong_stattion_contact_diff', 'lm_delay_contact_diff', \n",
    "                      'lm_missing_contact_diff', 'lm_shipped_contact_diff', 'lm_inducted_contact_diff',\n",
    "                      'lm_dispatched_contact_diff', 'lm_exception_contact_diff']\n",
    "\n",
    "categorical_features = ['channel','lm_delivery_attempted_reasoncode','site','lm_ship_method']\n",
    "\n",
    "binary_features = ['lm_customer_rejected_prior_during_contact',\n",
    "                   'lm_hold_for_customer_request', 'lm_contact_48h_prior_ead',\n",
    "                   'lm_transport_started_prior_contact',\n",
    "                   'lm_package_shipped_prior_contact', 'lm_package_inducted_prior_contact',\n",
    "                   'lm_wrong_station_prior_contact', 'lm_delayed_at_station_prior_contact',\n",
    "                   'lm_delayed_prior_contact', 'lm_missing_prior_contact',\n",
    "                   'lm_hold_for_action_prior_contact',\n",
    "                   'lm_hold_for_redelivery_prior_contact',\n",
    "                   'lm_delivery_exception_prior_contact', 'lm_damaged_prior_contact',\n",
    "                   'lm_undeliverable_prior_contact', 'lm_dispatched_prior_contact']\n",
    "\n",
    "label = ['delivered_in_48h']\n",
    "ID = ['packcomm_id']\n",
    "\n",
    "df_train = train_data[numerical_features + binary_features + ID + label].reset_index(drop=True)\n",
    "df_train_balanced = train_data_balanced[numerical_features + binary_features + ID + label].reset_index(drop=True)\n",
    "print(df_train.shape, df_train_balanced.shape)"
   ]
  },
  {
   "cell_type": "code",
   "execution_count": 52,
   "metadata": {},
   "outputs": [
    {
     "data": {
      "image/png": "[encoded data removed]",
      "text/plain": [
       "<Figure size 720x720 with 2 Axes>"
      ]
     },
     "metadata": {
      "needs_background": "light"
     },
     "output_type": "display_data"
    }
   ],
   "source": [
    "import seaborn as sn\n",
    "fig, ax = plt.subplots(1,1, figsize=(10,10))\n",
    "ax.set_title(\"Pearson's Correlation Coefficient heatmap for numerical features\")\n",
    "ax = sn.heatmap(df_train_balanced[numerical_features].corr(), \n",
    "           vmin = -1.0, vmax = 1.0, annot=True, square=True)\n",
    "plt.setp(ax.get_xticklabels(), rotation=45, ha=\"right\",\n",
    "         rotation_mode=\"anchor\")\n",
    "plt.show()"
   ]
  },
  {
   "cell_type": "markdown",
   "metadata": {},
   "source": [
    "lm_ead_contact_diff is highly correlated to all the other numerical features except lm_wrong_station_contact_diff. This might create issue of multicolinearity in linear models. This was expected as these events occur in succession but might be useful in non-parametric tree based models specially random forecast that uses bagging to select random features to build weak learners"
   ]
  },
  {
   "cell_type": "code",
   "execution_count": 53,
   "metadata": {},
   "outputs": [
    {
     "data": {
      "image/png": "[encoded data removed]",
      "text/plain": [
       "<Figure size 720x720 with 2 Axes>"
      ]
     },
     "metadata": {
      "needs_background": "light"
     },
     "output_type": "display_data"
    }
   ],
   "source": [
    "import seaborn as sn\n",
    "fig, ax = plt.subplots(1,1, figsize=(10,10))\n",
    "ax.set_title(\"Covariance heatmap for numerical features\")\n",
    "ax = sn.heatmap(df_train_balanced[numerical_features].cov(), annot=True, square=True)\n",
    "plt.setp(ax.get_xticklabels(), rotation=45, ha=\"right\",\n",
    "         rotation_mode=\"anchor\")\n",
    "plt.show()"
   ]
  },
  {
   "cell_type": "code",
   "execution_count": 15,
   "metadata": {},
   "outputs": [],
   "source": [
    "# from sklearn.preprocessing import OneHotEncoder\n",
    "# preprocessing = OneHotEncoder(categories='auto', handle_unknown='ignore', sparse=True)\n",
    "\n",
    "# df_cat_train = pd.DataFrame(preprocessing.fit_transform(df_train[categorical_features]).toarray()\n",
    "#                       , columns=preprocessing.get_feature_names())\n",
    "\n",
    "# df_cat_test = pd.DataFrame(preprocessing.transform(df_test[categorical_features]).toarray()\n",
    "#                       , columns=preprocessing.get_feature_names())\n",
    "# print(df_cat_train.shape, df_cat_test.shape)\n",
    "# df_train = pd.concat([df_train, df_cat_train], axis=1)\n",
    "# df_test = pd.concat([df_test, df_cat_test], axis=1)\n",
    "# print(df_train.shape,df_test.shape)"
   ]
  },
  {
   "cell_type": "code",
   "execution_count": 16,
   "metadata": {},
   "outputs": [],
   "source": [
    "# onehotencoded_features = list(preprocessing.get_feature_names())\n",
    "# model_features = numerical_features + binary_features + onehotencoded_features\n",
    "\n",
    "# df_model = df_train[numerical_features+binary_features+label+onehotencoded_features+ID]\n",
    "# df_test = df_test[numerical_features+binary_features+label+onehotencoded_features+ID]\n",
    "\n",
    "# print(df_model.shape,df_test.shape)\n",
    "# df_model.head()"
   ]
  },
  {
   "cell_type": "code",
   "execution_count": 54,
   "metadata": {},
   "outputs": [],
   "source": [
    "model_features = numerical_features + binary_features"
   ]
  },
  {
   "cell_type": "code",
   "execution_count": 61,
   "metadata": {},
   "outputs": [
    {
     "name": "stdout",
     "output_type": "stream",
     "text": [
      "Train X Set Size (122359, 25)\n",
      "Validation X Set Size (30590, 25)\n",
      "Train Y Set Size (122359, 2)\n",
      "Validation Y Set Size (30590, 2)\n"
     ]
    }
   ],
   "source": [
    "from sklearn.model_selection import train_test_split\n",
    "train_x, validation_x, train_y, validation_y = train_test_split(df_train_balanced[model_features+ID], \n",
    "                                                                df_train_balanced[label+ID],\n",
    "                                                                test_size=0.2, random_state=23, shuffle=True)\n",
    "print(\"Train X Set Size\", train_x.shape)\n",
    "print(\"Validation X Set Size\", validation_x.shape)\n",
    "print(\"Train Y Set Size\", train_y.shape)\n",
    "print(\"Validation Y Set Size\", validation_y.shape)"
   ]
  },
  {
   "cell_type": "markdown",
   "metadata": {},
   "source": [
    "# Binary Logistic Regression"
   ]
  },
  {
   "cell_type": "code",
   "execution_count": 74,
   "metadata": {},
   "outputs": [
    {
     "name": "stdout",
     "output_type": "stream",
     "text": [
      "Optimization terminated successfully.\n",
      "         Current function value: 0.545018\n",
      "         Iterations 9\n",
      "Total time taken to train the model in seconds 0.18827295303344727\n"
     ]
    }
   ],
   "source": [
    "from time import time\n",
    "start_time = time()\n",
    "import statsmodels.api as sm\n",
    "\n",
    "model_features = binary_features + ['lm_ead_contact_diff']\n",
    "\n",
    "x = train_x[model_features]\n",
    "y = train_y[label]\n",
    "lr_amzl_recipient = sm.Logit(y,x).fit()\n",
    "print(\"Total time taken to train the model in seconds\", (time() - start_time))"
   ]
  },
  {
   "cell_type": "code",
   "execution_count": 75,
   "metadata": {},
   "outputs": [
    {
     "data": {
      "text/html": [
       "<table class=\"simpletable\">\n",
       "<caption>Logit Regression Results</caption>\n",
       "<tr>\n",
       "  <th>Dep. Variable:</th>   <td>delivered_in_48h</td> <th>  No. Observations:  </th>  <td>122359</td> \n",
       "</tr>\n",
       "<tr>\n",
       "  <th>Model:</th>                 <td>Logit</td>      <th>  Df Residuals:      </th>  <td>122342</td> \n",
       "</tr>\n",
       "<tr>\n",
       "  <th>Method:</th>                 <td>MLE</td>       <th>  Df Model:          </th>  <td>    16</td> \n",
       "</tr>\n",
       "<tr>\n",
       "  <th>Date:</th>            <td>Thu, 15 Apr 2021</td> <th>  Pseudo R-squ.:     </th>  <td>0.2136</td> \n",
       "</tr>\n",
       "<tr>\n",
       "  <th>Time:</th>                <td>23:09:48</td>     <th>  Log-Likelihood:    </th> <td> -66688.</td>\n",
       "</tr>\n",
       "<tr>\n",
       "  <th>converged:</th>             <td>True</td>       <th>  LL-Null:           </th> <td> -84796.</td>\n",
       "</tr>\n",
       "<tr>\n",
       "  <th>Covariance Type:</th>     <td>nonrobust</td>    <th>  LLR p-value:       </th>  <td> 0.000</td> \n",
       "</tr>\n",
       "</table>\n",
       "<table class=\"simpletable\">\n",
       "<tr>\n",
       "                      <td></td>                         <th>coef</th>     <th>std err</th>      <th>z</th>      <th>P>|z|</th>  <th>[0.025</th>    <th>0.975]</th>  \n",
       "</tr>\n",
       "<tr>\n",
       "  <th>lm_customer_rejected_prior_during_contact</th> <td>   -5.6620</td> <td>    0.214</td> <td>  -26.411</td> <td> 0.000</td> <td>   -6.082</td> <td>   -5.242</td>\n",
       "</tr>\n",
       "<tr>\n",
       "  <th>lm_hold_for_customer_request</th>              <td>   -0.8225</td> <td>    0.052</td> <td>  -15.914</td> <td> 0.000</td> <td>   -0.924</td> <td>   -0.721</td>\n",
       "</tr>\n",
       "<tr>\n",
       "  <th>lm_contact_48h_prior_ead</th>                  <td>   -2.5741</td> <td>    0.029</td> <td>  -90.022</td> <td> 0.000</td> <td>   -2.630</td> <td>   -2.518</td>\n",
       "</tr>\n",
       "<tr>\n",
       "  <th>lm_transport_started_prior_contact</th>        <td>   -0.5634</td> <td>    0.016</td> <td>  -35.138</td> <td> 0.000</td> <td>   -0.595</td> <td>   -0.532</td>\n",
       "</tr>\n",
       "<tr>\n",
       "  <th>lm_package_shipped_prior_contact</th>          <td>    0.2070</td> <td>    0.016</td> <td>   13.287</td> <td> 0.000</td> <td>    0.176</td> <td>    0.238</td>\n",
       "</tr>\n",
       "<tr>\n",
       "  <th>lm_package_inducted_prior_contact</th>         <td>    1.1397</td> <td>    0.026</td> <td>   44.269</td> <td> 0.000</td> <td>    1.089</td> <td>    1.190</td>\n",
       "</tr>\n",
       "<tr>\n",
       "  <th>lm_wrong_station_prior_contact</th>            <td>   -0.0565</td> <td>    0.150</td> <td>   -0.377</td> <td> 0.706</td> <td>   -0.350</td> <td>    0.237</td>\n",
       "</tr>\n",
       "<tr>\n",
       "  <th>lm_delayed_at_station_prior_contact</th>       <td>   -0.0710</td> <td>    0.025</td> <td>   -2.787</td> <td> 0.005</td> <td>   -0.121</td> <td>   -0.021</td>\n",
       "</tr>\n",
       "<tr>\n",
       "  <th>lm_delayed_prior_contact</th>                  <td>   -0.2439</td> <td>    0.047</td> <td>   -5.183</td> <td> 0.000</td> <td>   -0.336</td> <td>   -0.152</td>\n",
       "</tr>\n",
       "<tr>\n",
       "  <th>lm_missing_prior_contact</th>                  <td>   -1.5025</td> <td>    0.029</td> <td>  -51.874</td> <td> 0.000</td> <td>   -1.559</td> <td>   -1.446</td>\n",
       "</tr>\n",
       "<tr>\n",
       "  <th>lm_hold_for_action_prior_contact</th>          <td>   -0.2518</td> <td>    0.019</td> <td>  -13.390</td> <td> 0.000</td> <td>   -0.289</td> <td>   -0.215</td>\n",
       "</tr>\n",
       "<tr>\n",
       "  <th>lm_hold_for_redelivery_prior_contact</th>      <td>    0.0934</td> <td>    0.022</td> <td>    4.203</td> <td> 0.000</td> <td>    0.050</td> <td>    0.137</td>\n",
       "</tr>\n",
       "<tr>\n",
       "  <th>lm_delivery_exception_prior_contact</th>       <td>   -0.7452</td> <td>    0.024</td> <td>  -30.610</td> <td> 0.000</td> <td>   -0.793</td> <td>   -0.698</td>\n",
       "</tr>\n",
       "<tr>\n",
       "  <th>lm_damaged_prior_contact</th>                  <td>   -1.0010</td> <td>    0.186</td> <td>   -5.396</td> <td> 0.000</td> <td>   -1.365</td> <td>   -0.637</td>\n",
       "</tr>\n",
       "<tr>\n",
       "  <th>lm_undeliverable_prior_contact</th>            <td>   -2.7001</td> <td>    0.098</td> <td>  -27.655</td> <td> 0.000</td> <td>   -2.891</td> <td>   -2.509</td>\n",
       "</tr>\n",
       "<tr>\n",
       "  <th>lm_dispatched_prior_contact</th>               <td>    0.6958</td> <td>    0.024</td> <td>   28.979</td> <td> 0.000</td> <td>    0.649</td> <td>    0.743</td>\n",
       "</tr>\n",
       "<tr>\n",
       "  <th>lm_ead_contact_diff</th>                       <td>    0.0153</td> <td>    0.000</td> <td>   54.878</td> <td> 0.000</td> <td>    0.015</td> <td>    0.016</td>\n",
       "</tr>\n",
       "</table>"
      ],
      "text/plain": [
       "<class 'statsmodels.iolib.summary.Summary'>\n",
       "\"\"\"\n",
       "                           Logit Regression Results                           \n",
       "==============================================================================\n",
       "Dep. Variable:       delivered_in_48h   No. Observations:               122359\n",
       "Model:                          Logit   Df Residuals:                   122342\n",
       "Method:                           MLE   Df Model:                           16\n",
       "Date:                Thu, 15 Apr 2021   Pseudo R-squ.:                  0.2136\n",
       "Time:                        23:09:48   Log-Likelihood:                -66688.\n",
       "converged:                       True   LL-Null:                       -84796.\n",
       "Covariance Type:            nonrobust   LLR p-value:                     0.000\n",
       "=============================================================================================================\n",
       "                                                coef    std err          z      P>|z|      [0.025      0.975]\n",
       "-------------------------------------------------------------------------------------------------------------\n",
       "lm_customer_rejected_prior_during_contact    -5.6620      0.214    -26.411      0.000      -6.082      -5.242\n",
       "lm_hold_for_customer_request                 -0.8225      0.052    -15.914      0.000      -0.924      -0.721\n",
       "lm_contact_48h_prior_ead                     -2.5741      0.029    -90.022      0.000      -2.630      -2.518\n",
       "lm_transport_started_prior_contact           -0.5634      0.016    -35.138      0.000      -0.595      -0.532\n",
       "lm_package_shipped_prior_contact              0.2070      0.016     13.287      0.000       0.176       0.238\n",
       "lm_package_inducted_prior_contact             1.1397      0.026     44.269      0.000       1.089       1.190\n",
       "lm_wrong_station_prior_contact               -0.0565      0.150     -0.377      0.706      -0.350       0.237\n",
       "lm_delayed_at_station_prior_contact          -0.0710      0.025     -2.787      0.005      -0.121      -0.021\n",
       "lm_delayed_prior_contact                     -0.2439      0.047     -5.183      0.000      -0.336      -0.152\n",
       "lm_missing_prior_contact                     -1.5025      0.029    -51.874      0.000      -1.559      -1.446\n",
       "lm_hold_for_action_prior_contact             -0.2518      0.019    -13.390      0.000      -0.289      -0.215\n",
       "lm_hold_for_redelivery_prior_contact          0.0934      0.022      4.203      0.000       0.050       0.137\n",
       "lm_delivery_exception_prior_contact          -0.7452      0.024    -30.610      0.000      -0.793      -0.698\n",
       "lm_damaged_prior_contact                     -1.0010      0.186     -5.396      0.000      -1.365      -0.637\n",
       "lm_undeliverable_prior_contact               -2.7001      0.098    -27.655      0.000      -2.891      -2.509\n",
       "lm_dispatched_prior_contact                   0.6958      0.024     28.979      0.000       0.649       0.743\n",
       "lm_ead_contact_diff                           0.0153      0.000     54.878      0.000       0.015       0.016\n",
       "=============================================================================================================\n",
       "\"\"\""
      ]
     },
     "execution_count": 75,
     "metadata": {},
     "output_type": "execute_result"
    }
   ],
   "source": [
    "lr_amzl_recipient.summary()"
   ]
  },
  {
   "cell_type": "code",
   "execution_count": 76,
   "metadata": {},
   "outputs": [
    {
     "name": "stdout",
     "output_type": "stream",
     "text": [
      "Total time taken to predict on the validation set in seconds 0.030733108520507812\n"
     ]
    }
   ],
   "source": [
    "from time import time\n",
    "start_time = time()\n",
    "lr_train_y_pred_proba = lr_amzl_recipient.predict(train_x[model_features])\n",
    "lr_validation_y_pred_proba = lr_amzl_recipient.predict(validation_x[model_features])\n",
    "lr_validation_y_pred_value = (lr_validation_y_pred_proba > 0.5).astype(int)\n",
    "print(\"Total time taken to predict on the validation set in seconds\", (time() - start_time))"
   ]
  },
  {
   "cell_type": "code",
   "execution_count": 77,
   "metadata": {},
   "outputs": [
    {
     "name": "stdout",
     "output_type": "stream",
     "text": [
      "AMZL Recipient Train AUC score: 0.7911450603219627\n",
      "AMZL Recipient Validation AUC score: 0.7909598866150978\n",
      "AMZL Recipient Validation Accuracy: 0.7560313828048382\n",
      "AMZL Recipient Validation Confusion Matrix: \n",
      " [[10118  4798]\n",
      " [ 2665 13009]]\n",
      "              precision    recall  f1-score   support\n",
      "\n",
      "           0       0.79      0.68      0.73     14916\n",
      "           1       0.73      0.83      0.78     15674\n",
      "\n",
      "    accuracy                           0.76     30590\n",
      "   macro avg       0.76      0.75      0.75     30590\n",
      "weighted avg       0.76      0.76      0.75     30590\n",
      "\n",
      "(array([0.79151999, 0.7305554 ]), array([0.67833199, 0.8299732 ]), array([0.73056789, 0.77709746]), array([14916, 15674]))\n"
     ]
    }
   ],
   "source": [
    "from sklearn.metrics import accuracy_score,confusion_matrix,precision_recall_fscore_support,classification_report,roc_auc_score\n",
    "\n",
    "print('AMZL Recipient Train AUC score:', roc_auc_score(train_y[label], lr_train_y_pred_proba))\n",
    "print('AMZL Recipient Validation AUC score:', roc_auc_score(validation_y[label], lr_validation_y_pred_proba))\n",
    "\n",
    "print('AMZL Recipient Validation Accuracy:', accuracy_score(validation_y[label], lr_validation_y_pred_value))\n",
    "print('AMZL Recipient Validation Confusion Matrix: \\n', confusion_matrix(validation_y[label], lr_validation_y_pred_value))\n",
    "print(classification_report(validation_y[label], lr_validation_y_pred_value))\n",
    "\n",
    "print(precision_recall_fscore_support(validation_y[label], lr_validation_y_pred_value))"
   ]
  },
  {
   "cell_type": "markdown",
   "metadata": {},
   "source": [
    "# Random Forest Classifier"
   ]
  },
  {
   "cell_type": "code",
   "execution_count": 81,
   "metadata": {},
   "outputs": [
    {
     "name": "stdout",
     "output_type": "stream",
     "text": [
      "Total time taken to train the model (seconds) 3.304327964782715\n"
     ]
    }
   ],
   "source": [
    "from time import time\n",
    "start_time = time()\n",
    "from sklearn.ensemble import RandomForestClassifier\n",
    "rfc_amzl_recipient = RandomForestClassifier(n_estimators=100,\n",
    "                                            criterion='entropy',\n",
    "                                            max_depth= 12, \n",
    "                                            min_samples_leaf=10, \n",
    "                                            max_features=0.6,\n",
    "                                            random_state=23,\n",
    "                                            max_samples=0.8,\n",
    "                                            n_jobs=-1)\n",
    "\n",
    "# Train the classifier\n",
    "model_features = numerical_features + binary_features\n",
    "rfc_amzl_recipient.fit(train_x[model_features], train_y[label])\n",
    "print(\"Total time taken to train the model (seconds)\", (time() - start_time))"
   ]
  },
  {
   "cell_type": "code",
   "execution_count": 82,
   "metadata": {},
   "outputs": [
    {
     "name": "stdout",
     "output_type": "stream",
     "text": [
      "Total time taken to predict on the validation set in seconds 0.5816030502319336\n"
     ]
    }
   ],
   "source": [
    "from time import time\n",
    "start_time = time()\n",
    "train_y_pred_proba = rfc_amzl_recipient.predict_proba(train_x[model_features])[:,1]\n",
    "validation_y_pred_proba = rfc_amzl_recipient.predict_proba(validation_x[model_features])[:,1]\n",
    "validation_y_pred_value = rfc_amzl_recipient.predict(validation_x[model_features])\n",
    "print(\"Total time taken to predict on the validation set in seconds\", (time() - start_time))"
   ]
  },
  {
   "cell_type": "code",
   "execution_count": 83,
   "metadata": {},
   "outputs": [
    {
     "name": "stdout",
     "output_type": "stream",
     "text": [
      "AMZL Recipient Train AUC score: 0.8738013353362729\n",
      "AMZL Recipient Validation AUC score: 0.8668452440039963\n",
      "AMZL Recipient Validation Accuracy: 0.7967636482510624\n",
      "AMZL Recipient Validation Confusion Matrix: \n",
      " [[10568  4348]\n",
      " [ 1869 13805]]\n",
      "              precision    recall  f1-score   support\n",
      "\n",
      "           0       0.85      0.71      0.77     14916\n",
      "           1       0.76      0.88      0.82     15674\n",
      "\n",
      "    accuracy                           0.80     30590\n",
      "   macro avg       0.81      0.79      0.79     30590\n",
      "weighted avg       0.80      0.80      0.80     30590\n",
      "\n",
      "(array([0.8497226 , 0.76048036]), array([0.70850094, 0.88075794]), array([0.77271232, 0.8162119 ]), array([14916, 15674]))\n"
     ]
    }
   ],
   "source": [
    "from sklearn.metrics import accuracy_score,confusion_matrix,precision_recall_fscore_support,classification_report,roc_auc_score\n",
    "\n",
    "print('AMZL Recipient Train AUC score:', roc_auc_score(train_y[label], train_y_pred_proba))\n",
    "print('AMZL Recipient Validation AUC score:', roc_auc_score(validation_y[label], validation_y_pred_proba))\n",
    "\n",
    "print('AMZL Recipient Validation Accuracy:', accuracy_score(validation_y[label], validation_y_pred_value))\n",
    "print('AMZL Recipient Validation Confusion Matrix: \\n', confusion_matrix(validation_y[label], validation_y_pred_value))\n",
    "print(classification_report(validation_y[label], validation_y_pred_value))\n",
    "\n",
    "print(precision_recall_fscore_support(validation_y[label], validation_y_pred_value))"
   ]
  },
  {
   "cell_type": "code",
   "execution_count": 84,
   "metadata": {},
   "outputs": [
    {
     "name": "stdout",
     "output_type": "stream",
     "text": [
      "AMZL Recipient Predictive Model Feature Importance: \n",
      "                                            importance\n",
      "lm_ead_contact_diff                           0.41834\n",
      "lm_customer_rejected_prior_during_contact     0.10438\n",
      "lm_shipped_contact_diff                       0.06933\n",
      "lm_missing_contact_diff                       0.06441\n",
      "lm_package_inducted_prior_contact             0.05586\n",
      "lm_inducted_contact_diff                      0.05464\n",
      "lm_transport_started_prior_contact            0.05040\n",
      "lm_missing_prior_contact                      0.02912\n",
      "lm_contact_48h_prior_ead                      0.02590\n",
      "lm_dispatched_contact_diff                    0.02482\n",
      "lm_undeliverable_prior_contact                0.02382\n",
      "lm_dispatched_prior_contact                   0.01770\n",
      "lm_hold_for_redelivery_prior_contact          0.00978\n",
      "lm_exception_contact_diff                     0.00967\n",
      "lm_delivery_exception_prior_contact           0.00923\n",
      "lm_package_shipped_prior_contact              0.00896\n",
      "lm_delay_contact_diff                         0.00774\n",
      "lm_delayed_at_station_prior_contact           0.00568\n",
      "lm_hold_for_action_prior_contact              0.00423\n",
      "lm_delayed_prior_contact                      0.00255\n",
      "lm_damaged_prior_contact                      0.00180\n",
      "lm_hold_for_customer_request                  0.00158\n",
      "lm_wrong_stattion_contact_diff                0.00004\n",
      "lm_wrong_station_prior_contact                0.00002\n"
     ]
    }
   ],
   "source": [
    "feature_importances = pd.DataFrame(rfc_amzl_recipient.feature_importances_,\n",
    "                                   index = train_x[model_features].columns,\n",
    "                                    columns=['importance']).sort_values('importance', ascending=False)\n",
    "feature_importances['importance'] = feature_importances['importance'].round(5)\n",
    "\n",
    "print('AMZL Recipient Predictive Model Feature Importance: \\n', feature_importances)"
   ]
  },
  {
   "cell_type": "code",
   "execution_count": 85,
   "metadata": {},
   "outputs": [
    {
     "data": {
      "text/plain": [
       "<matplotlib.axes._subplots.AxesSubplot at 0x12f64f9d0>"
      ]
     },
     "execution_count": 85,
     "metadata": {},
     "output_type": "execute_result"
    },
    {
     "data": {
      "image/png": "[encoded data removed]",
      "text/plain": [
       "<Figure size 432x288 with 1 Axes>"
      ]
     },
     "metadata": {
      "needs_background": "light"
     },
     "output_type": "display_data"
    }
   ],
   "source": [
    "pd.Series(train_y_pred_proba).hist()"
   ]
  },
  {
   "cell_type": "code",
   "execution_count": 87,
   "metadata": {},
   "outputs": [
    {
     "name": "stdout",
     "output_type": "stream",
     "text": [
      "AMZL Recipient Validation Accuracy for 0.45 0.7955867930696306\n",
      "AMZL Recipient Validation Accuracy for 0.5 0.7967636482510624\n",
      "AMZL Recipient Validation Accuracy for 0.55 0.797548218372017\n",
      "AMZL Recipient Validation Accuracy for 0.6 0.7938868911408957\n",
      "AMZL Recipient Validation Accuracy for 0.65 0.7783589408303367\n"
     ]
    }
   ],
   "source": [
    "for threshold in [0.45,0.5,0.55,0.6,0.65]:\n",
    "    validation_y_pred_value = (validation_y_pred_proba > threshold).astype(int)\n",
    "    print('AMZL Recipient Validation Accuracy for ' + str(threshold), accuracy_score(validation_y[label], validation_y_pred_value))"
   ]
  },
  {
   "cell_type": "markdown",
   "metadata": {},
   "source": [
    "Accuracy metric is maximized at a threshold value of 0.55"
   ]
  },
  {
   "cell_type": "markdown",
   "metadata": {},
   "source": [
    "# XGBoost Classifier"
   ]
  },
  {
   "cell_type": "code",
   "execution_count": 88,
   "metadata": {},
   "outputs": [],
   "source": [
    "from xgboost import XGBClassifier"
   ]
  },
  {
   "cell_type": "code",
   "execution_count": 89,
   "metadata": {},
   "outputs": [
    {
     "name": "stdout",
     "output_type": "stream",
     "text": [
      "Total time taken to train the model (minutes) 0.8596471468607585\n"
     ]
    }
   ],
   "source": [
    "from time import time\n",
    "start_time = time()\n",
    "xgb_amzl_recipient = XGBClassifier(objective = 'binary:logistic'\n",
    "                                   ,n_estimators = 100\n",
    "                                   ,learning_rate = 0.02\n",
    "                                   ,gamma=10\n",
    "                                   ,max_depth = 12\n",
    "                                   ,reg_alpha=0.3\n",
    "                                   ,random_state=23)\n",
    "\n",
    "xgb_amzl_recipient.fit(train_x[model_features], train_y[label], eval_metric='logloss')\n",
    "print(\"Total time taken to train the model (minutes)\", (time() - start_time)/60)"
   ]
  },
  {
   "cell_type": "code",
   "execution_count": 90,
   "metadata": {},
   "outputs": [
    {
     "name": "stdout",
     "output_type": "stream",
     "text": [
      "Total time taken to predict in seconds 1.6093902587890625\n"
     ]
    }
   ],
   "source": [
    "from time import time\n",
    "start_time = time()\n",
    "train_y_pred_proba = xgb_amzl_recipient.predict_proba(train_x[model_features])[:,1]\n",
    "\n",
    "validation_y_pred_proba = xgb_amzl_recipient.predict_proba(validation_x[model_features])[:,1]\n",
    "validation_y_pred_value = xgb_amzl_recipient.predict(validation_x[model_features])\n",
    "\n",
    "print(\"Total time taken to predict in seconds\", (time() - start_time))"
   ]
  },
  {
   "cell_type": "code",
   "execution_count": 91,
   "metadata": {},
   "outputs": [
    {
     "name": "stdout",
     "output_type": "stream",
     "text": [
      "AMZL Recipient Train AUC score: 0.8709209749034328\n",
      "AMZL Recipient Validation AUC score: 0.867272311264377\n",
      "AMZL Recipient Validation Accuracy: 0.7975809087937235\n",
      "AMZL Recipient Validation Confusion Matrix: \n",
      " [[10568  4348]\n",
      " [ 1844 13830]]\n",
      "              precision    recall  f1-score   support\n",
      "\n",
      "           0       0.85      0.71      0.77     14916\n",
      "           1       0.76      0.88      0.82     15674\n",
      "\n",
      "    accuracy                           0.80     30590\n",
      "   macro avg       0.81      0.80      0.80     30590\n",
      "weighted avg       0.80      0.80      0.80     30590\n",
      "\n"
     ]
    },
    {
     "data": {
      "text/plain": [
       "(array([0.8514341 , 0.76080977]),\n",
       " array([0.70850094, 0.88235294]),\n",
       " array([0.7734192 , 0.81708614]),\n",
       " array([14916, 15674]))"
      ]
     },
     "execution_count": 91,
     "metadata": {},
     "output_type": "execute_result"
    }
   ],
   "source": [
    "from sklearn.metrics import accuracy_score,confusion_matrix,precision_recall_fscore_support,classification_report,roc_auc_score\n",
    "print('AMZL Recipient Train AUC score:', roc_auc_score(train_y[label], train_y_pred_proba))\n",
    "print('AMZL Recipient Validation AUC score:', roc_auc_score(validation_y[label], validation_y_pred_proba))\n",
    "print('AMZL Recipient Validation Accuracy:', accuracy_score(validation_y[label], validation_y_pred_value))\n",
    "print('AMZL Recipient Validation Confusion Matrix: \\n', confusion_matrix(validation_y[label], validation_y_pred_value))\n",
    "print(classification_report(validation_y[label], validation_y_pred_value))\n",
    "\n",
    "precision_recall_fscore_support(validation_y[label], validation_y_pred_value)"
   ]
  },
  {
   "cell_type": "code",
   "execution_count": 92,
   "metadata": {},
   "outputs": [
    {
     "name": "stdout",
     "output_type": "stream",
     "text": [
      "AMZL Recipient Predictive Model Feature Importance: \n",
      "                                            importance\n",
      "lm_ead_contact_diff                           0.20002\n",
      "lm_customer_rejected_prior_during_contact     0.19962\n",
      "lm_package_inducted_prior_contact             0.14711\n",
      "lm_missing_contact_diff                       0.05859\n",
      "lm_hold_for_redelivery_prior_contact          0.04864\n",
      "lm_transport_started_prior_contact            0.04614\n",
      "lm_missing_prior_contact                      0.03876\n",
      "lm_undeliverable_prior_contact                0.03578\n",
      "lm_dispatched_prior_contact                   0.02566\n",
      "lm_delivery_exception_prior_contact           0.02424\n",
      "lm_package_shipped_prior_contact              0.02423\n",
      "lm_shipped_contact_diff                       0.02303\n",
      "lm_inducted_contact_diff                      0.01911\n",
      "lm_damaged_prior_contact                      0.01813\n",
      "lm_dispatched_contact_diff                    0.01703\n",
      "lm_delayed_at_station_prior_contact           0.01473\n",
      "lm_delay_contact_diff                         0.01274\n",
      "lm_delayed_prior_contact                      0.01172\n",
      "lm_exception_contact_diff                     0.01042\n",
      "lm_hold_for_customer_request                  0.01020\n",
      "lm_hold_for_action_prior_contact              0.00830\n",
      "lm_wrong_station_prior_contact                0.00579\n",
      "lm_contact_48h_prior_ead                      0.00000\n",
      "lm_wrong_stattion_contact_diff                0.00000\n"
     ]
    }
   ],
   "source": [
    "feature_importances = pd.DataFrame(xgb_amzl_recipient.feature_importances_,\n",
    "                                   index = train_x[model_features].columns,\n",
    "                                    columns=['importance']).sort_values('importance', ascending=False)\n",
    "feature_importances['importance'] = feature_importances['importance'].round(5)\n",
    "\n",
    "pd.set_option('display.max_rows', 100)\n",
    "print('AMZL Recipient Predictive Model Feature Importance: \\n', feature_importances)"
   ]
  },
  {
   "cell_type": "code",
   "execution_count": 93,
   "metadata": {},
   "outputs": [
    {
     "data": {
      "text/plain": [
       "<matplotlib.axes._subplots.AxesSubplot at 0x12cb1fe10>"
      ]
     },
     "execution_count": 93,
     "metadata": {},
     "output_type": "execute_result"
    },
    {
     "data": {
      "image/png": "[encoded data removed]",
      "text/plain": [
       "<Figure size 432x288 with 1 Axes>"
      ]
     },
     "metadata": {
      "needs_background": "light"
     },
     "output_type": "display_data"
    }
   ],
   "source": [
    "pd.Series(train_y_pred_proba).hist()"
   ]
  },
  {
   "cell_type": "code",
   "execution_count": 95,
   "metadata": {},
   "outputs": [
    {
     "name": "stdout",
     "output_type": "stream",
     "text": [
      "AMZL Recipient Validation Accuracy for 0.45 0.795096436744034\n",
      "AMZL Recipient Validation Accuracy for 0.5 0.7975809087937235\n",
      "AMZL Recipient Validation Accuracy for 0.55 0.7981366459627329\n",
      "AMZL Recipient Validation Accuracy for 0.6 0.7882968290290945\n",
      "AMZL Recipient Validation Accuracy for 0.65 0.774076495586793\n"
     ]
    }
   ],
   "source": [
    "for threshold in [0.45,0.5,0.55,0.6,0.65]:\n",
    "    validation_y_pred_value = (validation_y_pred_proba > threshold).astype(int)\n",
    "    print('AMZL Recipient Validation Accuracy for ' + str(threshold), accuracy_score(validation_y[label], validation_y_pred_value))"
   ]
  },
  {
   "cell_type": "markdown",
   "metadata": {},
   "source": [
    "#### Model Accuracy also shows that DSR for AMZL RECIPIENT US should have been around 80% compared to 70%, an opportunity of improving 1000 bps by making programatic and operational initiatives solely based on historical delivery scans of a package. The false positive cases can be deep dived by team/group managers to identify agent coaching opportunities"
   ]
  },
  {
   "cell_type": "markdown",
   "metadata": {},
   "source": [
    "# Future Scope\n",
    "1. Hyper-parameter tuning\n",
    "2. Adding more features"
   ]
  },
  {
   "cell_type": "code",
   "execution_count": null,
   "metadata": {},
   "outputs": [],
   "source": []
  }
 ],
 "metadata": {
  "kernelspec": {
   "display_name": "Python 3",
   "language": "python",
   "name": "python3"
  },
  "language_info": {
   "codemirror_mode": {
    "name": "ipython",
    "version": 3
   },
   "file_extension": ".py",
   "mimetype": "text/x-python",
   "name": "python",
   "nbconvert_exporter": "python",
   "pygments_lexer": "ipython3",
   "version": "3.7.4"
  }
 },
 "nbformat": 4,
 "nbformat_minor": 2
}
